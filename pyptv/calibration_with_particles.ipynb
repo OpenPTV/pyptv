{
 "cells": [
  {
   "cell_type": "markdown",
   "metadata": {},
   "source": [
    "# Calibrate with particles "
   ]
  },
  {
   "cell_type": "markdown",
   "metadata": {},
   "source": [
    "The idea is to run PyPTV as usual, and check the box \"Use only 4 frames\". The result will be in the /res folder with only quadruplets as 3D and the respective indices of 2D targets per image\n",
    "\n",
    "If we read this dataset into the proper format, we can now reproject every 3D point in rt_is back into the image and then optimize calibration with disparity between the position of the target as detected and the reprojected center. "
   ]
  },
  {
   "cell_type": "code",
   "execution_count": 1,
   "metadata": {},
   "outputs": [
    {
     "data": {
      "text/plain": [
       "'img_3/cam1.0'"
      ]
     },
     "execution_count": 1,
     "metadata": {},
     "output_type": "execute_result"
    }
   ],
   "source": [
    "# -*- coding: utf-8 -*-\n",
    "# copy of https://github.com/alexlib/pbi/blob/master/ptv/shake.py\n",
    "\"\"\"\n",
    "BOOM shake shake shake the room!!!\n",
    "\n",
    "Fine-tune calibration using the \"shaking\" method of comparing 3D positions \n",
    "obtained with existing calibration to their 2D projections. It's a kind of a \n",
    "feedback step over the normal calibration with known points.\n",
    "\n",
    "Created on Sun Jan 31 13:42:18 2016\n",
    "\n",
    "@author: Yosef Meller\n",
    "\"\"\"\n",
    "import argparse, yaml, numpy as np\n",
    "\n",
    "from optv.orientation import full_calibration\n",
    "from optv.parameters import ControlParams\n",
    "\n",
    "from optv.tracking_framebuf import TargetArray, Frame\n",
    "from optv.calibration import Calibration\n",
    "\n",
    "\n",
    "import os\n",
    "from pathlib import Path\n",
    "\n",
    "present_folder = Path.cwd()\n",
    "\n",
    "working_folder = Path(\"/home/user/Documents/repos/test_cavity\")\n",
    "par_path = working_folder / \"parameters\"\n",
    "working_folder.exists(), par_path.exists()\n",
    "\n",
    "from pyptv.ptv import py_start_proc_c\n",
    "\n",
    "# we work inside the working folder, all the other paths are relative to this \n",
    "num_cams = 4\n",
    "os.chdir(working_folder)\n",
    "cpar, spar, vpar, track_par, tpar, calibs, epar = py_start_proc_c(num_cams)\n",
    "assert cpar.get_num_cams() == num_cams\n",
    "\n",
    "cpar.get_img_base_name(0).decode()\n"
   ]
  },
  {
   "cell_type": "code",
   "execution_count": 2,
   "metadata": {},
   "outputs": [
    {
     "name": "stdout",
     "output_type": "stream",
     "text": [
      "[b'img_3/cam1.', b'img_3/cam2.', b'img_3/cam3.', b'img_3/cam4.']\n"
     ]
    }
   ],
   "source": [
    "\n",
    "targ_files = [spar.get_img_base_name(c).decode().split('%d')[0].encode() for c in \\\n",
    "    range(num_cams)]\n",
    "\n",
    "print(targ_files)\n"
   ]
  },
  {
   "cell_type": "code",
   "execution_count": 3,
   "metadata": {},
   "outputs": [
    {
     "name": "stdout",
     "output_type": "stream",
     "text": [
      "Backing up cal/cam1.tif.ori\n",
      "Backing up cal/cam2.tif.ori\n",
      "Backing up cal/cam3.tif.ori\n",
      "Backing up cal/cam4.tif.ori\n"
     ]
    }
   ],
   "source": [
    "def backup_ori_files(cpar):\n",
    "    \"\"\" backup ORI/ADDPAR files to the backup_cal directory \"\"\"\n",
    "    import shutil \n",
    "    for i_cam in range(cpar.get_num_cams()):\n",
    "        f = cpar.get_cal_img_base_name(i_cam).decode()\n",
    "        print(f\"Backing up {f}.ori\")\n",
    "        shutil.copyfile(f + \".ori\", f + \".ori.bck\")\n",
    "        shutil.copyfile(f + \".addpar\", f + \".addpar.bck\")\n",
    "\n",
    "\n",
    "# Backup is the first thing to do \n",
    "backup_ori_files(cpar)"
   ]
  },
  {
   "cell_type": "code",
   "execution_count": 4,
   "metadata": {},
   "outputs": [
    {
     "name": "stdout",
     "output_type": "stream",
     "text": [
      "Can't open ascii file: img_3/cam1._targets\n",
      "Camera 1\n",
      "[ 117.92618753  -96.22618625 -661.83355869]\n",
      "[-56.69999735   2.92738529  56.50535602]\n"
     ]
    },
    {
     "ename": "ValueError",
     "evalue": "Orientation iteration failed, need better setup.",
     "output_type": "error",
     "traceback": [
      "\u001b[0;31m---------------------------------------------------------------------------\u001b[0m",
      "\u001b[0;31mValueError\u001b[0m                                Traceback (most recent call last)",
      "Cell \u001b[0;32mIn[4], line 36\u001b[0m\n\u001b[1;32m     33\u001b[0m     targ\u001b[38;5;241m.\u001b[39mset_pnr(tix)\n\u001b[1;32m     34\u001b[0m     targ\u001b[38;5;241m.\u001b[39mset_pos(used_detects[tix])\n\u001b[0;32m---> 36\u001b[0m residuals \u001b[38;5;241m=\u001b[39m \u001b[43mfull_calibration\u001b[49m\u001b[43m(\u001b[49m\u001b[43mcalibs\u001b[49m\u001b[43m[\u001b[49m\u001b[43mcam\u001b[49m\u001b[43m]\u001b[49m\u001b[43m,\u001b[49m\u001b[43m \u001b[49m\u001b[43mused_known\u001b[49m\u001b[43m,\u001b[49m\u001b[43m \u001b[49m\u001b[43mtargs\u001b[49m\u001b[43m,\u001b[49m\u001b[43m \u001b[49m\u001b[43mcpar\u001b[49m\u001b[43m)\u001b[49m\n\u001b[1;32m     38\u001b[0m \u001b[38;5;28;01mif\u001b[39;00m \u001b[38;5;28;01mTrue\u001b[39;00m:\n\u001b[1;32m     39\u001b[0m     \u001b[38;5;28mprint\u001b[39m((\u001b[38;5;124m\"\u001b[39m\u001b[38;5;124mCamera \u001b[39m\u001b[38;5;132;01m%d\u001b[39;00m\u001b[38;5;124m\"\u001b[39m \u001b[38;5;241m%\u001b[39m (cam \u001b[38;5;241m+\u001b[39m \u001b[38;5;241m1\u001b[39m)))\n",
      "File \u001b[0;32moptv/orientation.pyx:300\u001b[0m, in \u001b[0;36moptv.orientation.full_calibration\u001b[0;34m()\u001b[0m\n",
      "\u001b[0;31mValueError\u001b[0m: Orientation iteration failed, need better setup."
     ]
    }
   ],
   "source": [
    "# Iterate over frames, loading the big lists of 3D positions and \n",
    "# respective detections.\n",
    "all_known = []\n",
    "all_detected = [[] for c in range(cpar.get_num_cams())]\n",
    "\n",
    "for frm_num in range(spar.get_first(), spar.get_last() + 1): # all frames for now, think of skipping some\n",
    "    frame = Frame(cpar.get_num_cams(), \n",
    "        corres_file_base = ('res/rt_is').encode(), \n",
    "        linkage_file_base= ('res/ptv_is').encode(),\n",
    "        target_file_base = targ_files, \n",
    "        frame_num = frm_num)\n",
    "        \n",
    "    all_known.append(frame.positions())\n",
    "    for cam in range(cpar.get_num_cams()):\n",
    "        all_detected[cam].append(frame.target_positions_for_camera(cam))\n",
    "\n",
    "# Make into the format needed for full_calibration.\n",
    "all_known = np.vstack(all_known)\n",
    "\n",
    "# Calibrate each camera accordingly.\n",
    "for cam in range(cpar.get_num_cams()):\n",
    "    detects = np.vstack(all_detected[cam])\n",
    "    assert detects.shape[0] == all_known.shape[0]\n",
    "    \n",
    "    have_targets = ~np.isnan(detects[:,0])\n",
    "    used_detects = detects[have_targets,:]\n",
    "    used_known = all_known[have_targets,:]\n",
    "    \n",
    "    targs = TargetArray(len(used_detects))\n",
    "    \n",
    "    for tix in range(len(used_detects)):\n",
    "        targ = targs[tix]\n",
    "        targ.set_pnr(tix)\n",
    "        targ.set_pos(used_detects[tix])\n",
    "    \n",
    "    residuals = full_calibration(calibs[cam], used_known, targs, cpar)\n",
    "    \n",
    "    if True:\n",
    "        print((\"Camera %d\" % (cam + 1)))\n",
    "        print((calibs[cam].get_pos()))\n",
    "        print((calibs[cam].get_angles()))\n",
    "    else:\n",
    "        if args.output is None:\n",
    "            ori = cal_args[cam]['ori_file']\n",
    "            distort = cal_args[cam]['addpar_file']\n",
    "        else:\n",
    "            ori = args.output % (cam + 1) + '.ori'\n",
    "            distort = args.output % (cam + 1) + '.addpar'\n",
    "        \n",
    "        calibs[cam].write(ori.encode(), distort.encode())"
   ]
  }
 ],
 "metadata": {
  "kernelspec": {
   "display_name": "pyptv",
   "language": "python",
   "name": "python3"
  },
  "language_info": {
   "codemirror_mode": {
    "name": "ipython",
    "version": 3
   },
   "file_extension": ".py",
   "mimetype": "text/x-python",
   "name": "python",
   "nbconvert_exporter": "python",
   "pygments_lexer": "ipython3",
   "version": "3.11.11"
  }
 },
 "nbformat": 4,
 "nbformat_minor": 2
}
