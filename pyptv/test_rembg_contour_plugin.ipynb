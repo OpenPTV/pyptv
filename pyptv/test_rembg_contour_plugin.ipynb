{
 "cells": [
  {
   "cell_type": "markdown",
   "id": "c9bcc578",
   "metadata": {},
   "source": [
    "## Omer contour from rembg needs testing"
   ]
  },
  {
   "cell_type": "code",
   "execution_count": 1,
   "id": "7b41510a",
   "metadata": {},
   "outputs": [],
   "source": [
    "# %pip install rembg\n",
    "# %pip install onnxruntime"
   ]
  },
  {
   "cell_type": "code",
   "execution_count": 2,
   "id": "05015c27",
   "metadata": {},
   "outputs": [],
   "source": [
    "class AttrDict(dict):\n",
    "    def __init__(self, *args, **kwargs):\n",
    "        super(AttrDict, self).__init__(*args, **kwargs)\n",
    "        self.__dict__ = self"
   ]
  },
  {
   "cell_type": "code",
   "execution_count": 3,
   "id": "51adfee5",
   "metadata": {},
   "outputs": [],
   "source": [
    "\"\"\"\n",
    "Tests for the plugin system\n",
    "\"\"\"\n",
    "import pytest\n",
    "import os\n",
    "import sys\n",
    "import tempfile\n",
    "from pathlib import Path\n",
    "import shutil\n",
    "import importlib\n",
    "import time\n",
    "\n",
    "\n",
    "# Import plugin modules\n",
    "from pyptv.plugins.ext_sequence_rembg_contour import Sequence\n",
    "from pyptv.ptv import py_start_proc_c, py_trackcorr_init, py_sequence_loop\n"
   ]
  },
  {
   "cell_type": "code",
   "execution_count": 4,
   "id": "92476fed",
   "metadata": {},
   "outputs": [
    {
     "name": "stdout",
     "output_type": "stream",
     "text": [
      "Inside main of pyptv_batch, exp_path is /home/user/Downloads/exp2 \n",
      "\n",
      "double checking that its inside /home/user/Downloads/exp2 \n",
      "\n",
      "(10000, 10004)\n",
      "Plugin directory contents: [PosixPath('/home/user/Documents/repos/pyptv/pyptv/plugins/ext_sequence_contour.py'), PosixPath('/home/user/Documents/repos/pyptv/pyptv/plugins/ext_sequence_denis.py'), PosixPath('/home/user/Documents/repos/pyptv/pyptv/plugins/ext_tracker_denis.py'), PosixPath('/home/user/Documents/repos/pyptv/pyptv/plugins/ext_sequence_rembg_contour.py'), PosixPath('/home/user/Documents/repos/pyptv/pyptv/plugins/ext_sequence_rembg.py')]\n",
      "Plugin directory contents: [PosixPath('/home/user/Documents/repos/pyptv/pyptv/plugins/ext_sequence_contour.py'), PosixPath('/home/user/Documents/repos/pyptv/pyptv/plugins/ext_sequence_denis.py'), PosixPath('/home/user/Documents/repos/pyptv/pyptv/plugins/ext_tracker_denis.py'), PosixPath('/home/user/Documents/repos/pyptv/pyptv/plugins/ext_sequence_rembg_contour.py'), PosixPath('/home/user/Documents/repos/pyptv/pyptv/plugins/ext_sequence_rembg.py')]\n",
      " From first_frame = 10000 to last_frame = 10004\n"
     ]
    },
    {
     "ename": "FileNotFoundError",
     "evalue": "No such file: '/media/user/ExtremePro/omer/mask_centers_sam2/cam0_mask_centers/frame_10000_centers.tiff'",
     "output_type": "error",
     "traceback": [
      "\u001b[31m---------------------------------------------------------------------------\u001b[39m",
      "\u001b[31mFileNotFoundError\u001b[39m                         Traceback (most recent call last)",
      "\u001b[36mCell\u001b[39m\u001b[36m \u001b[39m\u001b[32mIn[4]\u001b[39m\u001b[32m, line 72\u001b[39m\n\u001b[32m     68\u001b[39m plugin = importlib.import_module(\u001b[33m'\u001b[39m\u001b[33mext_sequence_rembg_contour\u001b[39m\u001b[33m'\u001b[39m)\n\u001b[32m     71\u001b[39m sequence = plugin.Sequence(exp=exp)\n\u001b[32m---> \u001b[39m\u001b[32m72\u001b[39m \u001b[43msequence\u001b[49m\u001b[43m.\u001b[49m\u001b[43mdo_sequence\u001b[49m\u001b[43m(\u001b[49m\u001b[43m)\u001b[49m\n\u001b[32m     75\u001b[39m tracker = py_trackcorr_init(exp)\n\u001b[32m     76\u001b[39m tracker.full_forward()\n",
      "\u001b[36mFile \u001b[39m\u001b[32m~/Documents/repos/pyptv/pyptv/plugins/ext_sequence_rembg_contour.py:97\u001b[39m, in \u001b[36mSequence.do_sequence\u001b[39m\u001b[34m(self)\u001b[39m\n\u001b[32m     95\u001b[39m base_image_name = spar.get_img_base_name(i_cam)\n\u001b[32m     96\u001b[39m imname = Path(base_image_name % frame) \u001b[38;5;66;03m# works with jumps from 1 to 10 \u001b[39;00m\n\u001b[32m---> \u001b[39m\u001b[32m97\u001b[39m masked_image = \u001b[43mmask_image\u001b[49m\u001b[43m(\u001b[49m\u001b[43mimname\u001b[49m\u001b[43m)\u001b[49m\n\u001b[32m     99\u001b[39m \u001b[38;5;66;03m# img = imread(imname)\u001b[39;00m\n\u001b[32m    100\u001b[39m \u001b[38;5;66;03m# if img.ndim > 2:\u001b[39;00m\n\u001b[32m    101\u001b[39m \u001b[38;5;66;03m#     img = rgb2gray(img)\u001b[39;00m\n\u001b[32m    102\u001b[39m     \n\u001b[32m    103\u001b[39m \u001b[38;5;66;03m# if img.dtype != np.uint8:\u001b[39;00m\n\u001b[32m    104\u001b[39m \u001b[38;5;66;03m#     img = img_as_ubyte(img)\u001b[39;00m\n\u001b[32m    108\u001b[39m high_pass = \u001b[38;5;28mself\u001b[39m.ptv.simple_highpass(masked_image, cpar)\n",
      "\u001b[36mFile \u001b[39m\u001b[32m~/Documents/repos/pyptv/pyptv/plugins/ext_sequence_rembg_contour.py:38\u001b[39m, in \u001b[36mmask_image\u001b[39m\u001b[34m(imname, display)\u001b[39m\n\u001b[32m     25\u001b[39m \u001b[38;5;250m\u001b[39m\u001b[33;03m\"\"\"Mask the image using a simple high pass filter.\u001b[39;00m\n\u001b[32m     26\u001b[39m \u001b[33;03m\u001b[39;00m\n\u001b[32m     27\u001b[39m \u001b[33;03mParameters\u001b[39;00m\n\u001b[32m   (...)\u001b[39m\u001b[32m     35\u001b[39m \u001b[33;03m    The masked image.\u001b[39;00m\n\u001b[32m     36\u001b[39m \u001b[33;03m\"\"\"\u001b[39;00m\n\u001b[32m     37\u001b[39m \u001b[38;5;66;03m# session = new_session('u2net')\u001b[39;00m\n\u001b[32m---> \u001b[39m\u001b[32m38\u001b[39m input_data = \u001b[43mimread\u001b[49m\u001b[43m(\u001b[49m\u001b[43mimname\u001b[49m\u001b[43m)\u001b[49m\n\u001b[32m     39\u001b[39m result = remove(input_data, session=session)\n\u001b[32m     40\u001b[39m result = img_as_ubyte(rgb2gray(result[:,:,:\u001b[32m3\u001b[39m]))\n",
      "\u001b[36mFile \u001b[39m\u001b[32m~/miniconda3/envs/pyptv-dev/lib/python3.11/site-packages/imageio/v3.py:53\u001b[39m, in \u001b[36mimread\u001b[39m\u001b[34m(uri, index, plugin, extension, format_hint, **kwargs)\u001b[39m\n\u001b[32m     50\u001b[39m \u001b[38;5;28;01mif\u001b[39;00m index \u001b[38;5;129;01mis\u001b[39;00m \u001b[38;5;129;01mnot\u001b[39;00m \u001b[38;5;28;01mNone\u001b[39;00m:\n\u001b[32m     51\u001b[39m     call_kwargs[\u001b[33m\"\u001b[39m\u001b[33mindex\u001b[39m\u001b[33m\"\u001b[39m] = index\n\u001b[32m---> \u001b[39m\u001b[32m53\u001b[39m \u001b[38;5;28;01mwith\u001b[39;00m \u001b[43mimopen\u001b[49m\u001b[43m(\u001b[49m\u001b[43muri\u001b[49m\u001b[43m,\u001b[49m\u001b[43m \u001b[49m\u001b[33;43m\"\u001b[39;49m\u001b[33;43mr\u001b[39;49m\u001b[33;43m\"\u001b[39;49m\u001b[43m,\u001b[49m\u001b[43m \u001b[49m\u001b[43m*\u001b[49m\u001b[43m*\u001b[49m\u001b[43mplugin_kwargs\u001b[49m\u001b[43m)\u001b[49m \u001b[38;5;28;01mas\u001b[39;00m img_file:\n\u001b[32m     54\u001b[39m     \u001b[38;5;28;01mreturn\u001b[39;00m np.asarray(img_file.read(**call_kwargs))\n",
      "\u001b[36mFile \u001b[39m\u001b[32m~/miniconda3/envs/pyptv-dev/lib/python3.11/site-packages/imageio/core/imopen.py:113\u001b[39m, in \u001b[36mimopen\u001b[39m\u001b[34m(uri, io_mode, plugin, extension, format_hint, legacy_mode, **kwargs)\u001b[39m\n\u001b[32m    111\u001b[39m     request.format_hint = format_hint\n\u001b[32m    112\u001b[39m \u001b[38;5;28;01melse\u001b[39;00m:\n\u001b[32m--> \u001b[39m\u001b[32m113\u001b[39m     request = \u001b[43mRequest\u001b[49m\u001b[43m(\u001b[49m\u001b[43muri\u001b[49m\u001b[43m,\u001b[49m\u001b[43m \u001b[49m\u001b[43mio_mode\u001b[49m\u001b[43m,\u001b[49m\u001b[43m \u001b[49m\u001b[43mformat_hint\u001b[49m\u001b[43m=\u001b[49m\u001b[43mformat_hint\u001b[49m\u001b[43m,\u001b[49m\u001b[43m \u001b[49m\u001b[43mextension\u001b[49m\u001b[43m=\u001b[49m\u001b[43mextension\u001b[49m\u001b[43m)\u001b[49m\n\u001b[32m    115\u001b[39m source = \u001b[33m\"\u001b[39m\u001b[33m<bytes>\u001b[39m\u001b[33m\"\u001b[39m \u001b[38;5;28;01mif\u001b[39;00m \u001b[38;5;28misinstance\u001b[39m(uri, \u001b[38;5;28mbytes\u001b[39m) \u001b[38;5;28;01melse\u001b[39;00m uri\n\u001b[32m    117\u001b[39m \u001b[38;5;66;03m# fast-path based on plugin\u001b[39;00m\n\u001b[32m    118\u001b[39m \u001b[38;5;66;03m# (except in legacy mode)\u001b[39;00m\n",
      "\u001b[36mFile \u001b[39m\u001b[32m~/miniconda3/envs/pyptv-dev/lib/python3.11/site-packages/imageio/core/request.py:249\u001b[39m, in \u001b[36mRequest.__init__\u001b[39m\u001b[34m(self, uri, mode, extension, format_hint, **kwargs)\u001b[39m\n\u001b[32m    246\u001b[39m     \u001b[38;5;28;01mraise\u001b[39;00m \u001b[38;5;167;01mValueError\u001b[39;00m(\u001b[33mf\u001b[39m\u001b[33m\"\u001b[39m\u001b[33mInvalid Request.Mode: \u001b[39m\u001b[38;5;132;01m{\u001b[39;00mmode\u001b[38;5;132;01m}\u001b[39;00m\u001b[33m\"\u001b[39m)\n\u001b[32m    248\u001b[39m \u001b[38;5;66;03m# Parse what was given\u001b[39;00m\n\u001b[32m--> \u001b[39m\u001b[32m249\u001b[39m \u001b[38;5;28;43mself\u001b[39;49m\u001b[43m.\u001b[49m\u001b[43m_parse_uri\u001b[49m\u001b[43m(\u001b[49m\u001b[43muri\u001b[49m\u001b[43m)\u001b[49m\n\u001b[32m    251\u001b[39m \u001b[38;5;66;03m# Set extension\u001b[39;00m\n\u001b[32m    252\u001b[39m \u001b[38;5;28;01mif\u001b[39;00m extension \u001b[38;5;129;01mis\u001b[39;00m \u001b[38;5;129;01mnot\u001b[39;00m \u001b[38;5;28;01mNone\u001b[39;00m:\n",
      "\u001b[36mFile \u001b[39m\u001b[32m~/miniconda3/envs/pyptv-dev/lib/python3.11/site-packages/imageio/core/request.py:409\u001b[39m, in \u001b[36mRequest._parse_uri\u001b[39m\u001b[34m(self, uri)\u001b[39m\n\u001b[32m    406\u001b[39m \u001b[38;5;28;01mif\u001b[39;00m is_read_request:\n\u001b[32m    407\u001b[39m     \u001b[38;5;66;03m# Reading: check that the file exists (but is allowed a dir)\u001b[39;00m\n\u001b[32m    408\u001b[39m     \u001b[38;5;28;01mif\u001b[39;00m \u001b[38;5;129;01mnot\u001b[39;00m os.path.exists(fn):\n\u001b[32m--> \u001b[39m\u001b[32m409\u001b[39m         \u001b[38;5;28;01mraise\u001b[39;00m \u001b[38;5;167;01mFileNotFoundError\u001b[39;00m(\u001b[33m\"\u001b[39m\u001b[33mNo such file: \u001b[39m\u001b[33m'\u001b[39m\u001b[38;5;132;01m%s\u001b[39;00m\u001b[33m'\u001b[39m\u001b[33m\"\u001b[39m % fn)\n\u001b[32m    410\u001b[39m \u001b[38;5;28;01melse\u001b[39;00m:\n\u001b[32m    411\u001b[39m     \u001b[38;5;66;03m# Writing: check that the directory to write to does exist\u001b[39;00m\n\u001b[32m    412\u001b[39m     dn = os.path.dirname(fn)\n",
      "\u001b[31mFileNotFoundError\u001b[39m: No such file: '/media/user/ExtremePro/omer/mask_centers_sam2/cam0_mask_centers/frame_10000_centers.tiff'"
     ]
    }
   ],
   "source": [
    "    \n",
    "exp_path = Path('/home/user/Downloads/exp2').resolve()\n",
    "first = 10000\n",
    "last = 10004\n",
    "\n",
    "start = time.time()\n",
    "\n",
    "try:\n",
    "    exp_path = Path(exp_path).resolve()\n",
    "    print(f\"Inside main of pyptv_batch, exp_path is {exp_path} \\n\")\n",
    "    os.chdir(exp_path)\n",
    "    \n",
    "    print(f\"double checking that its inside {Path.cwd()} \\n\")\n",
    "except Exception:\n",
    "    raise ValueError(f\"Wrong experimental directory {exp_path}\")\n",
    "\n",
    "# RON - make a res dir if it not found\n",
    "\n",
    "res_path = exp_path / \"res\"\n",
    "\n",
    "if not res_path.is_dir():\n",
    "    print(\" 'res' folder not found. creating one\")\n",
    "    res_path.mkdir(parents=True, exist_ok=True)\n",
    "\n",
    "seq_first = int(first)\n",
    "seq_last = int(last)\n",
    "\n",
    "print((seq_first, seq_last))\n",
    "\n",
    "# read the number of cameras\n",
    "with open(\"parameters/ptv.par\", \"r\") as f:\n",
    "    n_cams = int(f.readline())\n",
    "\n",
    "cpar, spar, vpar, track_par, tpar, cals, epar = py_start_proc_c(n_cams=n_cams)\n",
    "\n",
    "spar.set_first(seq_first)\n",
    "spar.set_last(seq_last)\n",
    "\n",
    "exp = {\n",
    "'cpar':cpar,\n",
    "'spar':spar,\n",
    "'vpar':vpar,\n",
    "'track_par':track_par,\n",
    "'tpar':tpar,\n",
    "'cals':cals,\n",
    "'epar':epar,\n",
    "'n_cams':n_cams,\n",
    "    }\n",
    "\n",
    "\n",
    "# use dataclass to convert dictionary keys to attributes\n",
    "exp = AttrDict(exp)\n",
    "\n",
    "#    py_sequence_loop(exp)\n",
    "from pyptv.ptv import run_plugin\n",
    "plugin_dir = Path('/home/user/Documents/repos/pyptv/pyptv') / 'plugins'\n",
    "sys.path.append(str(plugin_dir))\n",
    "\n",
    "print(f\"Plugin directory contents: {list(plugin_dir.glob('*.py'))}\")\n",
    "\n",
    "plugin_file =  plugin_dir / 'ext_sequence_rembg_contour.py'\n",
    "\n",
    "\n",
    "if not plugin_file.exists():\n",
    "    raise FileNotFoundError(f\"Plugin file not found at {plugin_file}\")\n",
    "\n",
    "print(f\"Plugin directory contents: {list(plugin_dir.glob('*.py'))}\")\n",
    "\n",
    "plugin = importlib.import_module('ext_sequence_rembg_contour')\n",
    "\n",
    "\n",
    "sequence = plugin.Sequence(exp=exp)\n",
    "sequence.do_sequence()\n",
    "\n",
    "\n",
    "tracker = py_trackcorr_init(exp)\n",
    "tracker.full_forward()\n",
    "\n",
    "end = time.time()\n",
    "print(\"time lapsed %f sec\" % (end - start))\n",
    "\n"
   ]
  }
 ],
 "metadata": {
  "kernelspec": {
   "display_name": "pyptv-dev",
   "language": "python",
   "name": "python3"
  },
  "language_info": {
   "codemirror_mode": {
    "name": "ipython",
    "version": 3
   },
   "file_extension": ".py",
   "mimetype": "text/x-python",
   "name": "python",
   "nbconvert_exporter": "python",
   "pygments_lexer": "ipython3",
   "version": "3.11.11"
  }
 },
 "nbformat": 4,
 "nbformat_minor": 5
}
